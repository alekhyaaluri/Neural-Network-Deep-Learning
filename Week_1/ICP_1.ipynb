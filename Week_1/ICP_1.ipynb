{
 "cells": [
  {
   "cell_type": "code",
   "execution_count": 11,
   "id": "2b7f5a95-75f3-44c2-ab83-1ff1d82b1292",
   "metadata": {},
   "outputs": [
    {
     "name": "stdin",
     "output_type": "stream",
     "text": [
      "Enter your first name:  Alekhya\n",
      "Enter your last name:  Aluri\n"
     ]
    },
    {
     "name": "stdout",
     "output_type": "stream",
     "text": [
      "Full name: Alekhya Aluri\n",
      "String alternative: AehaAui\n"
     ]
    }
   ],
   "source": [
    "# Function to concatenate first and last names\n",
    "def fullname(first_name, last_name):\n",
    "    return f\"{first_name} {last_name}\"\n",
    "\n",
    "# Function to return every other character from the full name\n",
    "def string_alternative(input_string):\n",
    "    return input_string[::2]\n",
    "\n",
    "# Main function\n",
    "def main():\n",
    "    # inputs from the user\n",
    "    first_name = input(\"Enter your first name: \")\n",
    "    last_name = input(\"Enter your last name: \")\n",
    "\n",
    "    # Getting the full name\n",
    "    full_name = fullname(first_name, last_name)\n",
    "    print(f\"Full name: {full_name}\")\n",
    "\n",
    "    # Getting the alternative characters from the full name\n",
    "    alternative_string = string_alternative(full_name)\n",
    "    print(f\"String alternative: {alternative_string}\")\n",
    "\n",
    "# Calling the main function\n",
    "if __name__ == \"__main__\":\n",
    "    main()"
   ]
  },
  {
   "cell_type": "code",
   "execution_count": 23,
   "id": "e903562c-cb24-429e-8021-48c94e21d1f5",
   "metadata": {},
   "outputs": [
    {
     "name": "stdout",
     "output_type": "stream",
     "text": [
      "Word count has been written to C:/Users/alekh/Downloads/output.txt.\n"
     ]
    }
   ],
   "source": [
    "def count_words_in_file(input_file, output_file):\n",
    "    # Dictionary to store word counts\n",
    "    word_count = {}\n",
    "\n",
    "    # Open the input file and read line by line\n",
    "    with open(input_file, 'r') as infile:\n",
    "        lines = infile.readlines()\n",
    "\n",
    "    # Open the output file to write the results\n",
    "    with open(output_file, 'w') as outfile:\n",
    "        # Write the lines to the output file\n",
    "        outfile.write(\"Lines in the file:\\n\")\n",
    "        for line in lines:\n",
    "            outfile.write(line)\n",
    "\n",
    "        # Count words line by line\n",
    "        for line in lines:\n",
    "            words = line.strip().split()\n",
    "            for word in words:\n",
    "                word_count[word] = word_count.get(word, 0) + 1\n",
    "\n",
    "        # Write the word count to the output file\n",
    "        outfile.write(\"\\nWord_Count:\\n\")\n",
    "        for word, count in word_count.items():\n",
    "            outfile.write(f\"{word}: {count}\\n\")\n",
    "\n",
    "# Main function to define file paths and call the counting function\n",
    "def main():\n",
    "    input_file = \"C:/Users/alekh/Downloads/input.txt\"\n",
    "    output_file = \"C:/Users/alekh/Downloads/output.txt\"\n",
    "    count_words_in_file(input_file, output_file)\n",
    "    print(f\"Word count has been written to {output_file}.\")\n",
    "\n",
    "# Call the main function\n",
    "if __name__ == \"__main__\":\n",
    "    main()\n"
   ]
  },
  {
   "cell_type": "code",
   "execution_count": 29,
   "id": "d9538408-5be0-4e06-b7dc-7a2d1508c5ea",
   "metadata": {},
   "outputs": [
    {
     "name": "stdin",
     "output_type": "stream",
     "text": [
      "Enter the number of customers:  4\n"
     ]
    },
    {
     "name": "stdout",
     "output_type": "stream",
     "text": [
      "Enter heights in inches for each customer:\n"
     ]
    },
    {
     "name": "stdin",
     "output_type": "stream",
     "text": [
      "Height in inches:  150\n",
      "Height in inches:  155\n",
      "Height in inches:  145\n",
      "Height in inches:  148\n"
     ]
    },
    {
     "name": "stdout",
     "output_type": "stream",
     "text": [
      "Height in centimeters converted using Nested Loop: [381.0, 393.7, 368.3, 375.92]\n",
      "Height in centimeters converted using List Comprehension: [381.0, 393.7, 368.3, 375.92]\n"
     ]
    }
   ],
   "source": [
    "def convert_height_nested_loop(heights_in_inches):\n",
    "    # Conversion using a nested interactive loop\n",
    "    heights_in_cm = []\n",
    "    for height in heights_in_inches:\n",
    "        heights_in_cm.append(round(height * 2.54, 2))\n",
    "    return heights_in_cm\n",
    "\n",
    "def convert_height_list_comprehension(heights_in_inches):\n",
    "    # Conversion using list comprehension\n",
    "    heights_in_cm = [round(height * 2.54, 2) for height in heights_in_inches]\n",
    "    return heights_in_cm\n",
    "\n",
    "# Main function\n",
    "def main():\n",
    "    # Input: Get the heights in inches from the user\n",
    "    heights_in_inches = []\n",
    "    num_customers = int(input(\"Enter the number of customers: \"))\n",
    "    print(\"Enter heights in inches for each customer:\")\n",
    "    for _ in range(num_customers):\n",
    "        height = float(input(\"Height in inches: \"))\n",
    "        heights_in_inches.append(height)\n",
    "    \n",
    "    convert_height_nested_result = convert_height_nested_loop(heights_in_inches)\n",
    "    print(\"Height in centimeters converted using Nested Loop:\", convert_height_nested_result)\n",
    "\n",
    "    convert_height_list_comprehension_result = convert_height_list_comprehension(heights_in_inches)\n",
    "    print(\"Height in centimeters converted using List Comprehension:\", convert_height_list_comprehension_result)\n",
    "\n",
    "# Run the program\n",
    "if __name__ == \"__main__\":\n",
    "    main()\n"
   ]
  },
  {
   "cell_type": "markdown",
   "id": "7f7b4b41-0e14-473c-a733-e585965031ea",
   "metadata": {},
   "source": [
    "Video Link https://drive.google.com/file/d/1vwVl9vLAT5KdrXbsHwRY4WHTpstAqzhA/view"
   ]
  }
 ],
 "metadata": {
  "kernelspec": {
   "display_name": "Python 3 (ipykernel)",
   "language": "python",
   "name": "python3"
  },
  "language_info": {
   "codemirror_mode": {
    "name": "ipython",
    "version": 3
   },
   "file_extension": ".py",
   "mimetype": "text/x-python",
   "name": "python",
   "nbconvert_exporter": "python",
   "pygments_lexer": "ipython3",
   "version": "3.12.4"
  }
 },
 "nbformat": 4,
 "nbformat_minor": 5
}
