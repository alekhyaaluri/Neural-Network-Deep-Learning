{
 "cells": [
  {
   "cell_type": "code",
   "execution_count": 31,
   "id": "796a7836-3dd6-4e54-a524-6a29c96a1a47",
   "metadata": {},
   "outputs": [
    {
     "name": "stdout",
     "output_type": "stream",
     "text": [
      "Number of employees: 4\n",
      "Average Salary: 70000.0\n"
     ]
    }
   ],
   "source": [
    "class Employee:\n",
    "    employee_count = 0\n",
    "\n",
    "    def __init__(self, name, family, salary, department):\n",
    "        self.name = name\n",
    "        self.family = family\n",
    "        self.salary = salary\n",
    "        self.department = department\n",
    "        # Increment the employee count each time an object is created\n",
    "        Employee.employee_count += 1\n",
    "    \n",
    "    # Static method to calculate the average salary of employees\n",
    "    @staticmethod\n",
    "    def calculate_average_salary(employees):\n",
    "        total_salary = sum(emp.salary for emp in employees)\n",
    "        return total_salary / len(employees) if employees else 0\n",
    "        \n",
    "class FulltimeEmployee(Employee):\n",
    "    def __init__(self, name, family, salary, department):\n",
    "        # Calling the parent(Employee) class constructor\n",
    "        super().__init__(name, family, salary, department)\n",
    "\n",
    "# Creating instances of Employee and FulltimeEmployee classes\n",
    "employee1 = Employee(\"Ravi Teja\", \"Chevituri\", 80000, \"Engineering\")\n",
    "employee2 = Employee(\"Alekhya\", \"Aluri\", 70000, \"Finance\")\n",
    "\n",
    "fulltime_employee1 = FulltimeEmployee(\"Rajesh\", \"Thugu\", 50000, \"Marketing\")\n",
    "fulltime_employee2 = FulltimeEmployee(\"Srujana\", \"Bollepalli\", 80000, \"Engineering\")\n",
    "\n",
    "employees = [employee1, employee2, fulltime_employee1, fulltime_employee2]\n",
    "\n",
    "# Calling member functions\n",
    "print(\"Number of employees:\", Employee.employee_count)\n",
    "\n",
    "# Calling the function to calculate average salary\n",
    "avg_salary = Employee.calculate_average_salary(employees)\n",
    "print(\"Average Salary:\", avg_salary)"
   ]
  },
  {
   "cell_type": "code",
   "execution_count": 33,
   "id": "66f9057d-def2-43a3-a41b-ac429cc79f43",
   "metadata": {},
   "outputs": [
    {
     "name": "stdout",
     "output_type": "stream",
     "text": [
      "Reshaped array after replacing maximum values in each row with 0:\n",
      "[[14.22577214  0.         10.18331542  4.68664166  5.50414787]\n",
      " [ 3.35460034  0.         19.76146272  9.95510635  5.4157803 ]\n",
      " [ 6.24910196  0.         14.85894406  1.96903864  8.47836003]\n",
      " [ 7.38959663  1.43495543  2.43953726  3.43179472  0.        ]]\n"
     ]
    }
   ],
   "source": [
    "import numpy as np\n",
    "\n",
    "# Create a random vector of size 20 with floats in the range 1-20\n",
    "random_vector = np.random.uniform(1, 20, 20)\n",
    "\n",
    "# Reshape the array to 4 by 5\n",
    "reshaped_array = random_vector.reshape(4, 5)\n",
    "\n",
    "# Replace the max in each row by 0 along axis=1\n",
    "max_indices = np.argmax(reshaped_array, axis=1)\n",
    "reshaped_array[np.arange(reshaped_array.shape[0]), max_indices] = 0\n",
    "\n",
    "# Print the resulting array\n",
    "print(\"Reshaped array after replacing maximum values in each row with 0:\")\n",
    "print(reshaped_array)"
   ]
  },
  {
   "cell_type": "markdown",
   "id": "2d90aedc-f82a-41b7-a455-0e3f45bb46f6",
   "metadata": {},
   "source": [
    "Video Link\n",
    "https://drive.google.com/file/d/1M-2GUJnjzP9O8BEbzJe5d4-h2S0MqfcC/view?usp=drive_link"
   ]
  }
 ],
 "metadata": {
  "kernelspec": {
   "display_name": "Python 3 (ipykernel)",
   "language": "python",
   "name": "python3"
  },
  "language_info": {
   "codemirror_mode": {
    "name": "ipython",
    "version": 3
   },
   "file_extension": ".py",
   "mimetype": "text/x-python",
   "name": "python",
   "nbconvert_exporter": "python",
   "pygments_lexer": "ipython3",
   "version": "3.12.4"
  }
 },
 "nbformat": 4,
 "nbformat_minor": 5
}
